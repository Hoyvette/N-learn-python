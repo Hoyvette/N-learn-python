{
  "cells": [
    {
      "cell_type": "markdown",
      "metadata": {
        "id": "view-in-github",
        "colab_type": "text"
      },
      "source": [
        "<a href=\"https://colab.research.google.com/github/Hoyvette/N-learn-python/blob/main/2024_3_22Python_Interactive_NoteBook.ipynb\" target=\"_parent\"><img src=\"https://colab.research.google.com/assets/colab-badge.svg\" alt=\"Open In Colab\"/></a>"
      ]
    },
    {
      "cell_type": "markdown",
      "metadata": {
        "id": "5kW5gSrkalzg"
      },
      "source": [
        "#2024 3 22 筆記\n"
      ]
    },
    {
      "cell_type": "markdown",
      "metadata": {
        "id": "ny-4chQmb7il"
      },
      "source": [
        "##變數的命名規則\n",
        "* 使用英文字母或底綫做開頭 (Use letters or underline to begin)\n",
        "* 除了開頭之外，可以用英文、底綫、跟數字。(Excpet begining,  use english, underline, and number)\n",
        "* 變數會區分大小寫 (Variables will vary in size)\n",
        "* 避開使用關鍵字 (Avoid key words)\n",
        "1. 使用英文字母或底綫做開頭\n",
        "2. 除了開頭之外，可以用英文、底綫、跟數字。\n",
        "3. 變數會區分大小寫\n",
        "4. 避開使用關鍵字"
      ]
    },
    {
      "cell_type": "markdown",
      "metadata": {
        "id": "prffNqszfH6n"
      },
      "source": [
        "$ E=m^2$\n"
      ]
    },
    {
      "cell_type": "code",
      "execution_count": null,
      "metadata": {
        "id": "nMYXogIIe4KE"
      },
      "outputs": [],
      "source": []
    },
    {
      "cell_type": "code",
      "execution_count": null,
      "metadata": {
        "id": "QCQhGK1Xc2k_"
      },
      "outputs": [],
      "source": [
        "#1.\n",
        "abc=1"
      ]
    },
    {
      "cell_type": "code",
      "execution_count": null,
      "metadata": {
        "id": "8NrT0GwYdDds"
      },
      "outputs": [],
      "source": [
        "#1\n",
        "_xyz = 2"
      ]
    },
    {
      "cell_type": "code",
      "execution_count": null,
      "metadata": {
        "id": "qf_8zU-2dNEz"
      },
      "outputs": [],
      "source": [
        "#2\n",
        "abc123=321"
      ]
    },
    {
      "cell_type": "code",
      "execution_count": null,
      "metadata": {
        "id": "CbgniYRedwmz"
      },
      "outputs": [],
      "source": [
        "#2\n",
        "h=48"
      ]
    },
    {
      "cell_type": "markdown",
      "metadata": {
        "id": "olNhwbl-g8z6"
      },
      "source": [
        "使用 type (變數名_) 可以檢查變數裏面放了社麽樣的質料。"
      ]
    },
    {
      "cell_type": "markdown",
      "metadata": {
        "id": "G6BNPuXDhsY8"
      },
      "source": [
        "###integer\n",
        "whole number (not fraction or decimal)"
      ]
    },
    {
      "cell_type": "code",
      "execution_count": null,
      "metadata": {
        "id": "94eBZ8HKh27p"
      },
      "outputs": [],
      "source": [
        "x = 1"
      ]
    },
    {
      "cell_type": "code",
      "execution_count": null,
      "metadata": {
        "id": "bLk088E6h4l6"
      },
      "outputs": [],
      "source": [
        "type(x)"
      ]
    },
    {
      "cell_type": "markdown",
      "metadata": {
        "id": "NcZJSu7yh-ii"
      },
      "source": [
        "###float\n",
        "\n",
        "has '.' in a number (decimals)"
      ]
    },
    {
      "cell_type": "code",
      "execution_count": null,
      "metadata": {
        "id": "aHuXcHu8iSYV"
      },
      "outputs": [],
      "source": [
        "y=3.14"
      ]
    },
    {
      "cell_type": "code",
      "execution_count": null,
      "metadata": {
        "colab": {
          "base_uri": "https://localhost:8080/"
        },
        "id": "L5NNbMuJiVWb",
        "outputId": "f7de563a-adf6-4c3b-db5f-4e1cd508c12d"
      },
      "outputs": [
        {
          "data": {
            "text/plain": [
              "int"
            ]
          },
          "execution_count": 62,
          "metadata": {},
          "output_type": "execute_result"
        }
      ],
      "source": [
        "type(y)\n",
        "int"
      ]
    },
    {
      "cell_type": "markdown",
      "metadata": {
        "id": "-qHE6pSIin7-"
      },
      "source": [
        "###bool\n",
        "comparing numbers"
      ]
    },
    {
      "cell_type": "code",
      "execution_count": null,
      "metadata": {
        "colab": {
          "base_uri": "https://localhost:8080/"
        },
        "id": "MbaVYhVeiq_i",
        "outputId": "6389a8ab-c1db-45f7-c2d4-0c2dc950e2b5"
      },
      "outputs": [
        {
          "data": {
            "text/plain": [
              "True"
            ]
          },
          "execution_count": 29,
          "metadata": {},
          "output_type": "execute_result"
        }
      ],
      "source": [
        "3>2\n",
        "True"
      ]
    },
    {
      "cell_type": "code",
      "execution_count": null,
      "metadata": {
        "id": "OKTzE2FyiuX6"
      },
      "outputs": [],
      "source": [
        "z = 3>2"
      ]
    },
    {
      "cell_type": "code",
      "execution_count": null,
      "metadata": {
        "colab": {
          "base_uri": "https://localhost:8080/"
        },
        "id": "TRn3PkyMixKj",
        "outputId": "521b0118-cf5e-4f12-a282-5740a4aa3884"
      },
      "outputs": [
        {
          "data": {
            "text/plain": [
              "bool"
            ]
          },
          "execution_count": 31,
          "metadata": {},
          "output_type": "execute_result"
        }
      ],
      "source": [
        "type(z)\n",
        "bool"
      ]
    },
    {
      "cell_type": "markdown",
      "metadata": {
        "id": "GYnwM1MYjCkT"
      },
      "source": [
        "###str\n",
        "\"___\" = text\n",
        "---\n",
        "\n"
      ]
    },
    {
      "cell_type": "code",
      "execution_count": null,
      "metadata": {
        "id": "CGf2I8GKjHUJ"
      },
      "outputs": [],
      "source": [
        "s= \"dog\""
      ]
    },
    {
      "cell_type": "code",
      "execution_count": null,
      "metadata": {
        "colab": {
          "base_uri": "https://localhost:8080/"
        },
        "id": "sf7IEDo9jUmZ",
        "outputId": "66c85737-4e6a-4907-f978-6ef6307f450f"
      },
      "outputs": [
        {
          "data": {
            "text/plain": [
              "str"
            ]
          },
          "execution_count": 32,
          "metadata": {},
          "output_type": "execute_result"
        }
      ],
      "source": [
        "type(s)"
      ]
    },
    {
      "cell_type": "markdown",
      "metadata": {
        "id": "3jiG0ftAkHpb"
      },
      "source": [
        "##常用數學運算 math operators"
      ]
    },
    {
      "cell_type": "code",
      "execution_count": null,
      "metadata": {
        "id": "4bY_VSkNkxfQ"
      },
      "outputs": [],
      "source": []
    },
    {
      "cell_type": "markdown",
      "metadata": {
        "id": "lAu1dgzgkRkj"
      },
      "source": [
        "###加減乘除\n",
        "math $ +- / * $"
      ]
    },
    {
      "cell_type": "code",
      "execution_count": null,
      "metadata": {
        "colab": {
          "base_uri": "https://localhost:8080/"
        },
        "id": "TEV5ZDYAkYil",
        "outputId": "fd6d5971-c097-4e41-d092-873e856a5f8f"
      },
      "outputs": [
        {
          "data": {
            "text/plain": [
              "5"
            ]
          },
          "execution_count": 33,
          "metadata": {},
          "output_type": "execute_result"
        }
      ],
      "source": [
        "3+2"
      ]
    },
    {
      "cell_type": "code",
      "execution_count": null,
      "metadata": {
        "colab": {
          "base_uri": "https://localhost:8080/"
        },
        "id": "xBpC9jplkeha",
        "outputId": "b11d160c-b62b-4ac1-dba7-abd5221b9761"
      },
      "outputs": [
        {
          "data": {
            "text/plain": [
              "1"
            ]
          },
          "execution_count": 34,
          "metadata": {},
          "output_type": "execute_result"
        }
      ],
      "source": [
        "3-2"
      ]
    },
    {
      "cell_type": "code",
      "execution_count": null,
      "metadata": {
        "colab": {
          "base_uri": "https://localhost:8080/"
        },
        "id": "TwuqQqohkgaT",
        "outputId": "209245d1-1d2d-4c92-b105-a0a779838f2f"
      },
      "outputs": [
        {
          "data": {
            "text/plain": [
              "1.5"
            ]
          },
          "execution_count": 35,
          "metadata": {},
          "output_type": "execute_result"
        }
      ],
      "source": [
        "3/2"
      ]
    },
    {
      "cell_type": "code",
      "execution_count": null,
      "metadata": {
        "colab": {
          "base_uri": "https://localhost:8080/"
        },
        "id": "VZgJadNvkjaw",
        "outputId": "10fee5dc-15a7-4b5f-9187-101faab7480a"
      },
      "outputs": [
        {
          "data": {
            "text/plain": [
              "6"
            ]
          },
          "execution_count": 36,
          "metadata": {},
          "output_type": "execute_result"
        }
      ],
      "source": [
        "3*2\n"
      ]
    },
    {
      "cell_type": "code",
      "execution_count": null,
      "metadata": {
        "colab": {
          "base_uri": "https://localhost:8080/"
        },
        "id": "4mqdFIQ_ky7j",
        "outputId": "c6a79e7e-246e-483e-e582-9e6a5cca71b5"
      },
      "outputs": [
        {
          "data": {
            "text/plain": [
              "1"
            ]
          },
          "execution_count": 37,
          "metadata": {},
          "output_type": "execute_result"
        }
      ],
      "source": [
        "#整出發\n",
        "3//2"
      ]
    },
    {
      "cell_type": "markdown",
      "metadata": {
        "id": "D_hN7e5ElQw8"
      },
      "source": [
        "###比較運算子"
      ]
    },
    {
      "cell_type": "code",
      "execution_count": null,
      "metadata": {
        "colab": {
          "base_uri": "https://localhost:8080/"
        },
        "id": "sL2Bn_OGlYCx",
        "outputId": "01390666-8faf-4065-940c-73dbfa540df9"
      },
      "outputs": [
        {
          "data": {
            "text/plain": [
              "True"
            ]
          },
          "execution_count": 38,
          "metadata": {},
          "output_type": "execute_result"
        }
      ],
      "source": [
        "#is 2 bigger equal 2\n",
        "3>=2"
      ]
    },
    {
      "cell_type": "code",
      "execution_count": null,
      "metadata": {
        "colab": {
          "base_uri": "https://localhost:8080/"
        },
        "id": "cZ7odiNJldYB",
        "outputId": "af06704c-5b3e-483b-94a5-d900df942b47"
      },
      "outputs": [
        {
          "data": {
            "text/plain": [
              "False"
            ]
          },
          "execution_count": 39,
          "metadata": {},
          "output_type": "execute_result"
        }
      ],
      "source": [
        "3<=2"
      ]
    },
    {
      "cell_type": "code",
      "execution_count": null,
      "metadata": {
        "colab": {
          "base_uri": "https://localhost:8080/"
        },
        "id": "lZE9V2aNlt2W",
        "outputId": "08f886d6-a844-4323-bbfe-86679017604c"
      },
      "outputs": [
        {
          "data": {
            "text/plain": [
              "True"
            ]
          },
          "execution_count": 40,
          "metadata": {},
          "output_type": "execute_result"
        }
      ],
      "source": [
        "3>2"
      ]
    },
    {
      "cell_type": "code",
      "execution_count": null,
      "metadata": {
        "colab": {
          "base_uri": "https://localhost:8080/"
        },
        "id": "ZNTYo6ful0qu",
        "outputId": "9b4cc546-b5a8-4366-dd24-1f37a1e37785"
      },
      "outputs": [
        {
          "data": {
            "text/plain": [
              "False"
            ]
          },
          "execution_count": 41,
          "metadata": {},
          "output_type": "execute_result"
        }
      ],
      "source": [
        "#is both sides equal 比較兩邊有沒有相等\n",
        "3==2"
      ]
    },
    {
      "cell_type": "code",
      "execution_count": null,
      "metadata": {
        "colab": {
          "base_uri": "https://localhost:8080/"
        },
        "id": "xEiz6NI6l3IV",
        "outputId": "7772b326-5768-4013-b5c4-589855eb9a50"
      },
      "outputs": [
        {
          "data": {
            "text/plain": [
              "True"
            ]
          },
          "execution_count": 56,
          "metadata": {},
          "output_type": "execute_result"
        }
      ],
      "source": [
        "#is both sides not equal 比較兩邊有沒有不想等\n",
        "3!=2"
      ]
    },
    {
      "cell_type": "markdown",
      "metadata": {
        "id": "Q6TtEopgmYil"
      },
      "source": [
        "###Assignment Operators"
      ]
    },
    {
      "cell_type": "code",
      "execution_count": null,
      "metadata": {
        "id": "fap-bnOPmdHS"
      },
      "outputs": [],
      "source": [
        "x=1"
      ]
    },
    {
      "cell_type": "code",
      "execution_count": null,
      "metadata": {
        "colab": {
          "base_uri": "https://localhost:8080/"
        },
        "id": "bhxfqHfdmgQ2",
        "outputId": "31b3ae4c-9101-4f8d-96f1-fd60fe91d03f"
      },
      "outputs": [
        {
          "data": {
            "text/plain": [
              "1"
            ]
          },
          "execution_count": 43,
          "metadata": {},
          "output_type": "execute_result"
        }
      ],
      "source": [
        "# what is in 'x'?\n",
        "x"
      ]
    },
    {
      "cell_type": "code",
      "execution_count": null,
      "metadata": {
        "id": "OiL0HaQfmlOg"
      },
      "outputs": [],
      "source": [
        "# x=x+1\n",
        "x += 1"
      ]
    },
    {
      "cell_type": "code",
      "execution_count": null,
      "metadata": {
        "colab": {
          "base_uri": "https://localhost:8080/"
        },
        "id": "Lr5VOp2im1bl",
        "outputId": "6ae0e681-0628-4aa0-af40-2448bfdeb5cf"
      },
      "outputs": [
        {
          "data": {
            "text/plain": [
              "4"
            ]
          },
          "execution_count": 47,
          "metadata": {},
          "output_type": "execute_result"
        }
      ],
      "source": [
        "x"
      ]
    },
    {
      "cell_type": "code",
      "execution_count": null,
      "metadata": {
        "id": "TPMCc_19m47E"
      },
      "outputs": [],
      "source": [
        "# x= x-1\n",
        "x-=1"
      ]
    },
    {
      "cell_type": "code",
      "execution_count": null,
      "metadata": {
        "colab": {
          "base_uri": "https://localhost:8080/"
        },
        "id": "YXBr4UEEnB62",
        "outputId": "e6711898-24c5-4c18-a660-4750bea7ceee"
      },
      "outputs": [
        {
          "data": {
            "text/plain": [
              "1"
            ]
          },
          "execution_count": 51,
          "metadata": {},
          "output_type": "execute_result"
        }
      ],
      "source": [
        "x"
      ]
    },
    {
      "cell_type": "code",
      "execution_count": null,
      "metadata": {
        "id": "nEomc-DlnDu-"
      },
      "outputs": [],
      "source": [
        "#x=x*2\n",
        "x*=2"
      ]
    },
    {
      "cell_type": "code",
      "execution_count": null,
      "metadata": {
        "colab": {
          "base_uri": "https://localhost:8080/"
        },
        "id": "cyXHYTeVnJDE",
        "outputId": "89f94b33-41b1-4cfb-91df-96b4fe8135be"
      },
      "outputs": [
        {
          "data": {
            "text/plain": [
              "2"
            ]
          },
          "execution_count": 53,
          "metadata": {},
          "output_type": "execute_result"
        }
      ],
      "source": [
        "x"
      ]
    },
    {
      "cell_type": "code",
      "execution_count": null,
      "metadata": {
        "colab": {
          "base_uri": "https://localhost:8080/"
        },
        "id": "MAmZc8Bpp8U0",
        "outputId": "8feb220b-cd83-41cc-a9c2-44cc921f66c7"
      },
      "outputs": [
        {
          "data": {
            "text/plain": [
              "True"
            ]
          },
          "execution_count": 58,
          "metadata": {},
          "output_type": "execute_result"
        }
      ],
      "source": [
        "z"
      ]
    },
    {
      "cell_type": "code",
      "execution_count": null,
      "metadata": {
        "colab": {
          "base_uri": "https://localhost:8080/"
        },
        "id": "V_cu8cnmqT7V",
        "outputId": "0f3fcf4e-f5f0-4886-f40b-72a9c15bc0dc"
      },
      "outputs": [
        {
          "data": {
            "text/plain": [
              "3.14"
            ]
          },
          "execution_count": 63,
          "metadata": {},
          "output_type": "execute_result"
        }
      ],
      "source": [
        "y"
      ]
    },
    {
      "cell_type": "code",
      "execution_count": null,
      "metadata": {
        "id": "bab5xqcXqp-U"
      },
      "outputs": [],
      "source": [
        "z=x==y\n"
      ]
    },
    {
      "cell_type": "code",
      "execution_count": null,
      "metadata": {
        "colab": {
          "base_uri": "https://localhost:8080/"
        },
        "id": "A3yAAJXZqwC-",
        "outputId": "1d877533-efd3-403b-f4e2-b5fcd0ee7cef"
      },
      "outputs": [
        {
          "data": {
            "text/plain": [
              "False"
            ]
          },
          "execution_count": 65,
          "metadata": {},
          "output_type": "execute_result"
        }
      ],
      "source": [
        "z\n"
      ]
    },
    {
      "cell_type": "code",
      "execution_count": null,
      "metadata": {
        "id": "oFJ5mkEdq6g8"
      },
      "outputs": [],
      "source": [
        "m = 4\n",
        "n = 2\n",
        "k= m/n"
      ]
    },
    {
      "cell_type": "code",
      "execution_count": null,
      "metadata": {
        "colab": {
          "base_uri": "https://localhost:8080/"
        },
        "id": "GIIBdDiCrBRz",
        "outputId": "883b4e6c-a562-4c16-e168-946e0a800a07"
      },
      "outputs": [
        {
          "data": {
            "text/plain": [
              "float"
            ]
          },
          "execution_count": 67,
          "metadata": {},
          "output_type": "execute_result"
        }
      ],
      "source": [
        "type(k)"
      ]
    },
    {
      "cell_type": "markdown",
      "metadata": {
        "id": "b41AUZDKscPm"
      },
      "source": [
        "##應用 01\n",
        "\n"
      ]
    },
    {
      "cell_type": "markdown",
      "metadata": {
        "id": "SIOHzsyostEG"
      },
      "source": [
        "###input & print"
      ]
    },
    {
      "cell_type": "code",
      "execution_count": null,
      "metadata": {
        "colab": {
          "base_uri": "https://localhost:8080/"
        },
        "id": "r8hc5ILqszFE",
        "outputId": "79b8ff5b-8734-49fb-8c72-1abaa5dffe3f"
      },
      "outputs": [
        {
          "name": "stdout",
          "output_type": "stream",
          "text": [
            "please enter a number10\n"
          ]
        }
      ],
      "source": [
        "x= input(\"please enter a number\")"
      ]
    },
    {
      "cell_type": "code",
      "execution_count": null,
      "metadata": {
        "colab": {
          "base_uri": "https://localhost:8080/",
          "height": 36
        },
        "id": "53UtPxMItIwK",
        "outputId": "c006d486-62de-4a66-c966-86d38818528a"
      },
      "outputs": [
        {
          "data": {
            "application/vnd.google.colaboratory.intrinsic+json": {
              "type": "string"
            },
            "text/plain": [
              "'10'"
            ]
          },
          "execution_count": 73,
          "metadata": {},
          "output_type": "execute_result"
        }
      ],
      "source": [
        "#x = text form 10\n",
        "x"
      ]
    },
    {
      "cell_type": "code",
      "execution_count": null,
      "metadata": {
        "colab": {
          "base_uri": "https://localhost:8080/"
        },
        "id": "viRCF9S3tABk",
        "outputId": "aab1ae6b-3984-4dca-84b4-ca632e997e42"
      },
      "outputs": [
        {
          "data": {
            "text/plain": [
              "str"
            ]
          },
          "execution_count": 74,
          "metadata": {},
          "output_type": "execute_result"
        }
      ],
      "source": [
        "#str = text\n",
        "type(x)"
      ]
    },
    {
      "cell_type": "code",
      "execution_count": null,
      "metadata": {
        "colab": {
          "base_uri": "https://localhost:8080/"
        },
        "id": "YGtaait2togm",
        "outputId": "badb1a1e-9f7f-48c2-b323-b1655ee7528b"
      },
      "outputs": [
        {
          "data": {
            "text/plain": [
              "False"
            ]
          },
          "execution_count": 75,
          "metadata": {},
          "output_type": "execute_result"
        }
      ],
      "source": [
        "x == 10"
      ]
    },
    {
      "cell_type": "code",
      "execution_count": null,
      "metadata": {
        "colab": {
          "base_uri": "https://localhost:8080/"
        },
        "id": "hU834sPktrJv",
        "outputId": "9de7e608-c92c-4df1-c8bc-2b9e54b2b169"
      },
      "outputs": [
        {
          "data": {
            "text/plain": [
              "True"
            ]
          },
          "execution_count": 77,
          "metadata": {},
          "output_type": "execute_result"
        }
      ],
      "source": [
        "#turn x into number (integer)\n",
        "int(x) == 10"
      ]
    },
    {
      "cell_type": "markdown",
      "metadata": {
        "id": "b6c4bRHpt968"
      },
      "source": [
        "## If statement\n",
        "four basic language (四個基本語法）:\n",
        "* loops (e.g. for)\n",
        "* functions (e.g. def)\n",
        "* if statements\n",
        "* excpetion handling"
      ]
    },
    {
      "cell_type": "code",
      "execution_count": null,
      "metadata": {
        "colab": {
          "base_uri": "https://localhost:8080/"
        },
        "id": "flKw0_2kug-l",
        "outputId": "33afd1d2-9610-4b3b-e9a9-e7073bc56916"
      },
      "outputs": [
        {
          "name": "stdout",
          "output_type": "stream",
          "text": [
            "Hello\n"
          ]
        }
      ],
      "source": [
        "if True:\n",
        "  print(\"Hello\")"
      ]
    },
    {
      "cell_type": "code",
      "execution_count": null,
      "metadata": {
        "id": "xI35Qp1RulUp"
      },
      "outputs": [],
      "source": [
        "if False:\n",
        "  print(\"hello)\")"
      ]
    },
    {
      "cell_type": "code",
      "execution_count": null,
      "metadata": {
        "colab": {
          "base_uri": "https://localhost:8080/"
        },
        "id": "y4d3BcE9u6FK",
        "outputId": "35dc8f2b-1162-451a-db97-5856f7a2a65c"
      },
      "outputs": [
        {
          "name": "stdout",
          "output_type": "stream",
          "text": [
            "Hello\n"
          ]
        }
      ],
      "source": [
        "if 3>2:\n",
        "  print(\"Hello\")"
      ]
    },
    {
      "cell_type": "code",
      "execution_count": null,
      "metadata": {
        "id": "OBHuQLdYvNfr"
      },
      "outputs": [],
      "source": [
        "x=2\n",
        "y=3\n",
        "# if 2>3 equal False, which comp wont say anything\n",
        "if x>y:\n",
        "  print(\"Hello\")"
      ]
    },
    {
      "cell_type": "code",
      "execution_count": null,
      "metadata": {
        "colab": {
          "base_uri": "https://localhost:8080/"
        },
        "id": "-Cmh3Sn9vqtj",
        "outputId": "039d294f-4d25-4988-d2a0-c7ff8d0fde62"
      },
      "outputs": [
        {
          "name": "stdout",
          "output_type": "stream",
          "text": [
            "A\n"
          ]
        }
      ],
      "source": [
        "if True:\n",
        "  print(\"A\")\n",
        "else:\n",
        "  print(\"B\")"
      ]
    },
    {
      "cell_type": "code",
      "execution_count": null,
      "metadata": {
        "colab": {
          "base_uri": "https://localhost:8080/"
        },
        "id": "QI3fPWD0v9is",
        "outputId": "ad377f41-8f4d-42e2-f2f5-26ea12170c8f"
      },
      "outputs": [
        {
          "name": "stdout",
          "output_type": "stream",
          "text": [
            "A\n"
          ]
        }
      ],
      "source": [
        "if True:\n",
        "  print(\"A\")\n",
        "else:\n",
        "  print(\"B\")\n"
      ]
    },
    {
      "cell_type": "markdown",
      "metadata": {
        "id": "z6wfRkoowLbq"
      },
      "source": [
        "##應用03\n",
        "Please write a code, sure input() enter a number.\n",
        "write a number bigger that 10,but still smaller than 10.\n",
        "請寫一個程式，使用 input(）讀入一個數字。\n",
        "印出數字是大於10，還是小於10."
      ]
    },
    {
      "cell_type": "code",
      "execution_count": null,
      "metadata": {
        "colab": {
          "base_uri": "https://localhost:8080/"
        },
        "id": "buxrb43WxMo-",
        "outputId": "5c603fa0-df15-453e-c5e5-2bf7204c7c25"
      },
      "outputs": [
        {
          "name": "stdout",
          "output_type": "stream",
          "text": [
            "please enter a number10\n",
            "Bigger than 10\n"
          ]
        }
      ],
      "source": [
        "x = input(\"please enter a number\")\n",
        "if int(x)>=10:\n",
        "   print(\"Bigger than 10\")\n",
        "else:\n",
        "  print(\"smaller than 10\")\n"
      ]
    },
    {
      "cell_type": "code",
      "execution_count": null,
      "metadata": {
        "colab": {
          "base_uri": "https://localhost:8080/"
        },
        "id": "CJT8VqGNyPmp",
        "outputId": "07b26c88-da55-4ed0-f917-7aee4274ddc5"
      },
      "outputs": [
        {
          "name": "stdout",
          "output_type": "stream",
          "text": [
            "please enter a number11\n",
            "Bigger than 10\n"
          ]
        }
      ],
      "source": [
        "x = input(\"please enter a number\")\n",
        "if int(x) >  10:\n",
        "   print(\"Bigger than 10\")\n",
        "elif int(x) <10:\n",
        "  print(\"smaller than 10\")\n",
        "else:\n",
        "  print(\"equal to 10\")\n"
      ]
    },
    {
      "cell_type": "markdown",
      "metadata": {
        "id": "QQUwOHOEy6Wu"
      },
      "source": [
        "##應用04\n",
        "給定一個 [1 - 5] random integer.\n",
        "使用 input 輸入一個數字，比較結果是否與前面產生的 random integer 相同。"
      ]
    },
    {
      "cell_type": "code",
      "execution_count": null,
      "metadata": {
        "colab": {
          "base_uri": "https://localhost:8080/"
        },
        "id": "MWwkEJD3yqG_",
        "outputId": "0318bcfe-0596-4e21-90c8-cebeeda3e628"
      },
      "outputs": [
        {
          "output_type": "stream",
          "name": "stdout",
          "text": [
            "please enter a number:4\n",
            "incorrect! the answer is 3\n",
            "1\n"
          ]
        }
      ],
      "source": [
        "import random\n",
        "y= 0\n",
        "n= random.randint(1,5)\n",
        "x = input(\"please enter a number:\")\n",
        "if int(x)==n:\n",
        "  print (\"Correct! The answer is\",n)\n",
        "else:\n",
        "  print(\"incorrect! the answer is\",n)\n",
        "  y+=1\n",
        "  print(y)"
      ]
    }
  ],
  "metadata": {
    "colab": {
      "toc_visible": true,
      "provenance": [],
      "authorship_tag": "ABX9TyMjqXHp/ac1/KLNhT2Jc3Uv",
      "include_colab_link": true
    },
    "kernelspec": {
      "display_name": "Python 3",
      "name": "python3"
    },
    "language_info": {
      "name": "python"
    }
  },
  "nbformat": 4,
  "nbformat_minor": 0
}